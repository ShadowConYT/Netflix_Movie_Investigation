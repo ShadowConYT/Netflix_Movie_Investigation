{
 "cells": [
  {
   "cell_type": "markdown",
   "metadata": {},
   "source": [
    "**Netflix**! What started in 1997 as a DVD rental service has since exploded into one of the largest entertainment and media companies.\n",
    "\n",
    "Given the large number of movies and series available on the platform, it is a perfect opportunity to flex your exploratory data analysis skills and dive into the entertainment industry. Our friend has also been brushing up on their Python skills and has taken a first crack at a CSV file containing Netflix data. They believe that the average duration of movies has been declining. Using your friends initial research, you'll delve into the Netflix data to see if you can determine whether movie lengths are actually getting shorter and explain some of the contributing factors, if any.\n",
    "\n",
    "You have been supplied with the dataset `netflix_data.csv` , along with the following table detailing the column names and descriptions:\n",
    "\n",
    "## The data\n",
    "### **netflix_data.csv**\n",
    "| Column | Description |\n",
    "|--------|-------------|\n",
    "| `show_id` | The ID of the show |\n",
    "| `type` | Type of show |\n",
    "| `title` | Title of the show |\n",
    "| `director` | Director of the show |\n",
    "| `cast` | Cast of the show |\n",
    "| `country` | Country of origin |\n",
    "| `date_added` | Date added to Netflix |\n",
    "| `release_year` | Year of Netflix release |\n",
    "| `duration` | Duration of the show in minutes |\n",
    "| `description` | Description of the show |\n",
    "| `genre` | Show genre |"
   ]
  },
  {
   "cell_type": "code",
   "execution_count": null,
   "metadata": {},
   "outputs": [],
   "source": []
  }
 ],
 "metadata": {
  "language_info": {
   "name": "python"
  }
 },
 "nbformat": 4,
 "nbformat_minor": 2
}
